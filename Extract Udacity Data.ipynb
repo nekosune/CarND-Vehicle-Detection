{
 "cells": [
  {
   "cell_type": "code",
   "execution_count": 15,
   "metadata": {
    "collapsed": false
   },
   "outputs": [],
   "source": [
    "import csv\n",
    "import cv2\n",
    "with open('udacity/labels.csv', 'r') as csvfile:\n",
    "    reader= csv.reader(csvfile)\n",
    "    car=0\n",
    "    notcar=0\n",
    "    for row in reader:\n",
    "        if(row[5]=='Car'):\n",
    "            img=cv2.imread('udacity/'+row[4])\n",
    "            crop_img = img[int(row[1]):int(row[3]),int(row[0]):int(row[2])]\n",
    "            if(crop_img.size==0):\n",
    "                continue\n",
    "            crop_img=cv2.resize(crop_img,(64,64))\n",
    "            cv2.imwrite('udacity/cars/'+str(car)+'.png',crop_img)\n",
    "            car=car+1\n",
    "        if(row[5]=='Pedestrian'):\n",
    "            img=cv2.imread('udacity/'+row[4])\n",
    "            crop_img = img[int(row[1]):int(row[3]),int(row[0]):int(row[2])]\n",
    "            if(crop_img.size==0):\n",
    "                continue\n",
    "            crop_img=cv2.resize(crop_img,(64,64))\n",
    "            cv2.imwrite('udacity/notcars/'+str(notcar)+'.png',crop_img)\n",
    "            notcar=notcar+1"
   ]
  },
  {
   "cell_type": "code",
   "execution_count": null,
   "metadata": {
    "collapsed": true
   },
   "outputs": [],
   "source": []
  }
 ],
 "metadata": {
  "kernelspec": {
   "display_name": "Python 3",
   "language": "python",
   "name": "python3"
  },
  "language_info": {
   "codemirror_mode": {
    "name": "ipython",
    "version": 3
   },
   "file_extension": ".py",
   "mimetype": "text/x-python",
   "name": "python",
   "nbconvert_exporter": "python",
   "pygments_lexer": "ipython3",
   "version": "3.5.2"
  },
  "widgets": {
   "state": {},
   "version": "1.1.2"
  }
 },
 "nbformat": 4,
 "nbformat_minor": 2
}
